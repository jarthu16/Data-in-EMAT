{
 "cells": [
  {
   "cell_type": "code",
   "execution_count": 71,
   "id": "87469684-c862-44f4-b7c3-5415345a73c5",
   "metadata": {},
   "outputs": [],
   "source": [
    "# Instagram likes report\n",
    "# Jillian Arthur\n",
    "# 9/3/24\n",
    "# Instagram created the data when it was downloading it, but the source of my's Instagram data is me and how I use Instagram, however, the data comes from the person downloading it. The data would not be there if I had not taken that action.\n",
    "# This data can inform me about my Instagram habits and how I take advantage of the app, and what information the app has about me. One specific use for the data is marketing. Companies track my interests and details about me so that they can get to know me and sell me products based on these things. For example, Instagram knows where I am at a given moment, so it shows me advertisements for events in my area. It also keeps track of what advertisements I interact with so that it can show more similar to that. \n",
    "# This data is reliable in the sense that it comes directly from Instagram and it shows exactly how I interacted with the app. There is always a possibility for error, such as Instagram displaying innacurate information. \n",
    "# It may be unreliable if I input the wrong information into Instagram, such as the wrong name or contact information. "
   ]
  },
  {
   "cell_type": "code",
   "execution_count": 72,
   "id": "2d2beac1-823e-4887-9bcd-e75a5ca7a1dd",
   "metadata": {},
   "outputs": [],
   "source": [
    "import json\n",
    "import pandas as pd"
   ]
  },
  {
   "cell_type": "code",
   "execution_count": 73,
   "id": "4308ec90-29fd-4f24-a06b-c0c2fc06c14f",
   "metadata": {},
   "outputs": [],
   "source": [
    "path = \"/Users/jillianarthur/Downloads/Kent/data in emat/instagram-chilipepper_135-2024-09-13-ukp5wHMc/your_instagram_activity/likes/liked_posts.json\"\n",
    "with open(path) as j:\n",
    "    mess = json.load(j)"
   ]
  },
  {
   "cell_type": "code",
   "execution_count": 74,
   "id": "74494090-b596-4e60-a86a-addfa3aa1496",
   "metadata": {},
   "outputs": [
    {
     "data": {
      "text/plain": [
       "dict_keys(['likes_media_likes'])"
      ]
     },
     "execution_count": 74,
     "metadata": {},
     "output_type": "execute_result"
    }
   ],
   "source": [
    "mess.keys()"
   ]
  },
  {
   "cell_type": "code",
   "execution_count": 75,
   "id": "f18d32bb-dbf0-4df1-937d-e436a282e5fd",
   "metadata": {},
   "outputs": [
    {
     "data": {
      "text/html": [
       "<div>\n",
       "<style scoped>\n",
       "    .dataframe tbody tr th:only-of-type {\n",
       "        vertical-align: middle;\n",
       "    }\n",
       "\n",
       "    .dataframe tbody tr th {\n",
       "        vertical-align: top;\n",
       "    }\n",
       "\n",
       "    .dataframe thead th {\n",
       "        text-align: right;\n",
       "    }\n",
       "</style>\n",
       "<table border=\"1\" class=\"dataframe\">\n",
       "  <thead>\n",
       "    <tr style=\"text-align: right;\">\n",
       "      <th></th>\n",
       "      <th>title</th>\n",
       "      <th>string_list_data</th>\n",
       "    </tr>\n",
       "  </thead>\n",
       "  <tbody>\n",
       "    <tr>\n",
       "      <th>0</th>\n",
       "      <td>terriblemap</td>\n",
       "      <td>[{'href': 'https://www.instagram.com/p/ClEFneZ...</td>\n",
       "    </tr>\n",
       "    <tr>\n",
       "      <th>1</th>\n",
       "      <td>sumit.says_</td>\n",
       "      <td>[{'href': 'https://www.instagram.com/p/Ck3kszs...</td>\n",
       "    </tr>\n",
       "    <tr>\n",
       "      <th>2</th>\n",
       "      <td>terriblemap</td>\n",
       "      <td>[{'href': 'https://www.instagram.com/p/Ck9UmVh...</td>\n",
       "    </tr>\n",
       "    <tr>\n",
       "      <th>3</th>\n",
       "      <td>balkancomedyboss</td>\n",
       "      <td>[{'href': 'https://www.instagram.com/reel/ClCa...</td>\n",
       "    </tr>\n",
       "    <tr>\n",
       "      <th>4</th>\n",
       "      <td>starwarsholocrone</td>\n",
       "      <td>[{'href': 'https://www.instagram.com/p/ClFFJ5F...</td>\n",
       "    </tr>\n",
       "  </tbody>\n",
       "</table>\n",
       "</div>"
      ],
      "text/plain": [
       "               title                                   string_list_data\n",
       "0        terriblemap  [{'href': 'https://www.instagram.com/p/ClEFneZ...\n",
       "1        sumit.says_  [{'href': 'https://www.instagram.com/p/Ck3kszs...\n",
       "2        terriblemap  [{'href': 'https://www.instagram.com/p/Ck9UmVh...\n",
       "3   balkancomedyboss  [{'href': 'https://www.instagram.com/reel/ClCa...\n",
       "4  starwarsholocrone  [{'href': 'https://www.instagram.com/p/ClFFJ5F..."
      ]
     },
     "execution_count": 75,
     "metadata": {},
     "output_type": "execute_result"
    }
   ],
   "source": [
    "mess_df = pd.DataFrame(mess['likes_media_likes'])\n",
    "mess_df.head()"
   ]
  },
  {
   "cell_type": "code",
   "execution_count": 76,
   "id": "d4ad261f-5c8c-4df1-91d5-b386f21a30f7",
   "metadata": {},
   "outputs": [
    {
     "data": {
      "text/plain": [
       "list"
      ]
     },
     "execution_count": 76,
     "metadata": {},
     "output_type": "execute_result"
    }
   ],
   "source": [
    "type(mess_df['string_list_data'].iloc[0])"
   ]
  },
  {
   "cell_type": "code",
   "execution_count": 77,
   "id": "a25be96a-7180-4510-99f0-73122fdc15b7",
   "metadata": {},
   "outputs": [
    {
     "data": {
      "text/plain": [
       "1"
      ]
     },
     "execution_count": 77,
     "metadata": {},
     "output_type": "execute_result"
    }
   ],
   "source": [
    "len(mess_df['string_list_data'].iloc[0])"
   ]
  },
  {
   "cell_type": "code",
   "execution_count": 78,
   "id": "b4659a45-8e96-4703-b1ea-98c970d98d21",
   "metadata": {},
   "outputs": [
    {
     "data": {
      "text/plain": [
       "{'href': 'https://www.instagram.com/p/ClEFneZtrs3/',\n",
       " 'value': 'ð\\x9f\\x91\\x8d',\n",
       " 'timestamp': 1668821209}"
      ]
     },
     "execution_count": 78,
     "metadata": {},
     "output_type": "execute_result"
    }
   ],
   "source": [
    "mess_df['string_list_data'].iloc[0][0]"
   ]
  },
  {
   "cell_type": "code",
   "execution_count": 79,
   "id": "b033dac0-7b7f-4c46-9089-75455c5cec21",
   "metadata": {
    "scrolled": true
   },
   "outputs": [],
   "source": [
    "mess_df['Time of Like'] = [x[0]['timestamp'] for x in mess_df['string_list_data']]"
   ]
  },
  {
   "cell_type": "code",
   "execution_count": 80,
   "id": "079ebbca-0921-438c-93b7-9b34eaad2dc4",
   "metadata": {},
   "outputs": [
    {
     "data": {
      "text/html": [
       "<div>\n",
       "<style scoped>\n",
       "    .dataframe tbody tr th:only-of-type {\n",
       "        vertical-align: middle;\n",
       "    }\n",
       "\n",
       "    .dataframe tbody tr th {\n",
       "        vertical-align: top;\n",
       "    }\n",
       "\n",
       "    .dataframe thead th {\n",
       "        text-align: right;\n",
       "    }\n",
       "</style>\n",
       "<table border=\"1\" class=\"dataframe\">\n",
       "  <thead>\n",
       "    <tr style=\"text-align: right;\">\n",
       "      <th></th>\n",
       "      <th>title</th>\n",
       "      <th>string_list_data</th>\n",
       "      <th>Time of Like</th>\n",
       "    </tr>\n",
       "  </thead>\n",
       "  <tbody>\n",
       "    <tr>\n",
       "      <th>0</th>\n",
       "      <td>terriblemap</td>\n",
       "      <td>[{'href': 'https://www.instagram.com/p/ClEFneZ...</td>\n",
       "      <td>1668821209</td>\n",
       "    </tr>\n",
       "    <tr>\n",
       "      <th>1</th>\n",
       "      <td>sumit.says_</td>\n",
       "      <td>[{'href': 'https://www.instagram.com/p/Ck3kszs...</td>\n",
       "      <td>1668821201</td>\n",
       "    </tr>\n",
       "    <tr>\n",
       "      <th>2</th>\n",
       "      <td>terriblemap</td>\n",
       "      <td>[{'href': 'https://www.instagram.com/p/Ck9UmVh...</td>\n",
       "      <td>1668821147</td>\n",
       "    </tr>\n",
       "    <tr>\n",
       "      <th>3</th>\n",
       "      <td>balkancomedyboss</td>\n",
       "      <td>[{'href': 'https://www.instagram.com/reel/ClCa...</td>\n",
       "      <td>1668821019</td>\n",
       "    </tr>\n",
       "    <tr>\n",
       "      <th>4</th>\n",
       "      <td>starwarsholocrone</td>\n",
       "      <td>[{'href': 'https://www.instagram.com/p/ClFFJ5F...</td>\n",
       "      <td>1668820935</td>\n",
       "    </tr>\n",
       "  </tbody>\n",
       "</table>\n",
       "</div>"
      ],
      "text/plain": [
       "               title                                   string_list_data  \\\n",
       "0        terriblemap  [{'href': 'https://www.instagram.com/p/ClEFneZ...   \n",
       "1        sumit.says_  [{'href': 'https://www.instagram.com/p/Ck3kszs...   \n",
       "2        terriblemap  [{'href': 'https://www.instagram.com/p/Ck9UmVh...   \n",
       "3   balkancomedyboss  [{'href': 'https://www.instagram.com/reel/ClCa...   \n",
       "4  starwarsholocrone  [{'href': 'https://www.instagram.com/p/ClFFJ5F...   \n",
       "\n",
       "   Time of Like  \n",
       "0    1668821209  \n",
       "1    1668821201  \n",
       "2    1668821147  \n",
       "3    1668821019  \n",
       "4    1668820935  "
      ]
     },
     "execution_count": 80,
     "metadata": {},
     "output_type": "execute_result"
    }
   ],
   "source": [
    "mess_df.head()"
   ]
  },
  {
   "cell_type": "code",
   "execution_count": 81,
   "id": "aa7e6843-66a4-4833-a06d-987c8f371b3d",
   "metadata": {},
   "outputs": [
    {
     "data": {
      "text/html": [
       "<div>\n",
       "<style scoped>\n",
       "    .dataframe tbody tr th:only-of-type {\n",
       "        vertical-align: middle;\n",
       "    }\n",
       "\n",
       "    .dataframe tbody tr th {\n",
       "        vertical-align: top;\n",
       "    }\n",
       "\n",
       "    .dataframe thead th {\n",
       "        text-align: right;\n",
       "    }\n",
       "</style>\n",
       "<table border=\"1\" class=\"dataframe\">\n",
       "  <thead>\n",
       "    <tr style=\"text-align: right;\">\n",
       "      <th></th>\n",
       "      <th>string_list_data</th>\n",
       "      <th>Time of Like</th>\n",
       "    </tr>\n",
       "    <tr>\n",
       "      <th>title</th>\n",
       "      <th></th>\n",
       "      <th></th>\n",
       "    </tr>\n",
       "  </thead>\n",
       "  <tbody>\n",
       "    <tr>\n",
       "      <th>taylornation</th>\n",
       "      <td>338</td>\n",
       "      <td>338</td>\n",
       "    </tr>\n",
       "    <tr>\n",
       "      <th>impact</th>\n",
       "      <td>291</td>\n",
       "      <td>291</td>\n",
       "    </tr>\n",
       "    <tr>\n",
       "      <th>hannah.montoya</th>\n",
       "      <td>183</td>\n",
       "      <td>183</td>\n",
       "    </tr>\n",
       "    <tr>\n",
       "      <th>kkachi_doodle</th>\n",
       "      <td>179</td>\n",
       "      <td>179</td>\n",
       "    </tr>\n",
       "    <tr>\n",
       "      <th>falsegodgf</th>\n",
       "      <td>167</td>\n",
       "      <td>167</td>\n",
       "    </tr>\n",
       "    <tr>\n",
       "      <th>mattxiv</th>\n",
       "      <td>166</td>\n",
       "      <td>166</td>\n",
       "    </tr>\n",
       "    <tr>\n",
       "      <th>honeymoon</th>\n",
       "      <td>162</td>\n",
       "      <td>162</td>\n",
       "    </tr>\n",
       "    <tr>\n",
       "      <th>authenticallycaitlin</th>\n",
       "      <td>150</td>\n",
       "      <td>150</td>\n",
       "    </tr>\n",
       "    <tr>\n",
       "      <th>1989.mp3</th>\n",
       "      <td>147</td>\n",
       "      <td>147</td>\n",
       "    </tr>\n",
       "    <tr>\n",
       "      <th>taylorswift</th>\n",
       "      <td>146</td>\n",
       "      <td>146</td>\n",
       "    </tr>\n",
       "  </tbody>\n",
       "</table>\n",
       "</div>"
      ],
      "text/plain": [
       "                      string_list_data  Time of Like\n",
       "title                                               \n",
       "taylornation                       338           338\n",
       "impact                             291           291\n",
       "hannah.montoya                     183           183\n",
       "kkachi_doodle                      179           179\n",
       "falsegodgf                         167           167\n",
       "mattxiv                            166           166\n",
       "honeymoon                          162           162\n",
       "authenticallycaitlin               150           150\n",
       "1989.mp3                           147           147\n",
       "taylorswift                        146           146"
      ]
     },
     "execution_count": 81,
     "metadata": {},
     "output_type": "execute_result"
    }
   ],
   "source": [
    "mess_df.groupby('title').count().sort_values('Time of Like', ascending = False).head(10)"
   ]
  },
  {
   "cell_type": "code",
   "execution_count": 82,
   "id": "d5f11af3-bbce-42e4-9d37-4d7184900420",
   "metadata": {},
   "outputs": [],
   "source": [
    "# I am a fan of Taylor Swift, so my data from Instagram will reflect this. It will show that I have always saved Taylor Swift related posts."
   ]
  },
  {
   "cell_type": "code",
   "execution_count": 83,
   "id": "6180614f-43fb-436d-b8f9-db7df7e02a45",
   "metadata": {},
   "outputs": [],
   "source": [
    "import json\n",
    "import pandas as pd"
   ]
  },
  {
   "cell_type": "code",
   "execution_count": 84,
   "id": "a23187a2-782f-4ffb-b4fc-c6f4ed6f27f8",
   "metadata": {},
   "outputs": [],
   "source": [
    "path = \"/Users/jillianarthur/Downloads/Kent/data in emat/instagram-chilipepper_135-2024-09-13-ukp5wHMc/your_instagram_activity/saved/saved_posts.json\"\n",
    "with open(path) as j:\n",
    "    mess = json.load(j)"
   ]
  },
  {
   "cell_type": "code",
   "execution_count": 85,
   "id": "cda88a43-6f1e-4bf7-93fb-0715d5bdd460",
   "metadata": {},
   "outputs": [
    {
     "data": {
      "text/plain": [
       "dict_keys(['saved_saved_media'])"
      ]
     },
     "execution_count": 85,
     "metadata": {},
     "output_type": "execute_result"
    }
   ],
   "source": [
    "mess.keys()"
   ]
  },
  {
   "cell_type": "code",
   "execution_count": 86,
   "id": "75c0d4d7-163a-4b34-85f9-b630b6c70491",
   "metadata": {},
   "outputs": [
    {
     "data": {
      "text/html": [
       "<div>\n",
       "<style scoped>\n",
       "    .dataframe tbody tr th:only-of-type {\n",
       "        vertical-align: middle;\n",
       "    }\n",
       "\n",
       "    .dataframe tbody tr th {\n",
       "        vertical-align: top;\n",
       "    }\n",
       "\n",
       "    .dataframe thead th {\n",
       "        text-align: right;\n",
       "    }\n",
       "</style>\n",
       "<table border=\"1\" class=\"dataframe\">\n",
       "  <thead>\n",
       "    <tr style=\"text-align: right;\">\n",
       "      <th></th>\n",
       "      <th>title</th>\n",
       "      <th>string_map_data</th>\n",
       "    </tr>\n",
       "  </thead>\n",
       "  <tbody>\n",
       "    <tr>\n",
       "      <th>0</th>\n",
       "      <td>firmforsuccess</td>\n",
       "      <td>{'Saved on': {'href': 'https://www.instagram.c...</td>\n",
       "    </tr>\n",
       "    <tr>\n",
       "      <th>1</th>\n",
       "      <td>kittymemebliss</td>\n",
       "      <td>{'Saved on': {'href': 'https://www.instagram.c...</td>\n",
       "    </tr>\n",
       "    <tr>\n",
       "      <th>2</th>\n",
       "      <td>cringesites</td>\n",
       "      <td>{'Saved on': {'href': 'https://www.instagram.c...</td>\n",
       "    </tr>\n",
       "    <tr>\n",
       "      <th>3</th>\n",
       "      <td>catsbeingsillydaily</td>\n",
       "      <td>{'Saved on': {'href': 'https://www.instagram.c...</td>\n",
       "    </tr>\n",
       "    <tr>\n",
       "      <th>4</th>\n",
       "      <td>collegelife</td>\n",
       "      <td>{'Saved on': {'href': 'https://www.instagram.c...</td>\n",
       "    </tr>\n",
       "  </tbody>\n",
       "</table>\n",
       "</div>"
      ],
      "text/plain": [
       "                 title                                    string_map_data\n",
       "0       firmforsuccess  {'Saved on': {'href': 'https://www.instagram.c...\n",
       "1       kittymemebliss  {'Saved on': {'href': 'https://www.instagram.c...\n",
       "2          cringesites  {'Saved on': {'href': 'https://www.instagram.c...\n",
       "3  catsbeingsillydaily  {'Saved on': {'href': 'https://www.instagram.c...\n",
       "4          collegelife  {'Saved on': {'href': 'https://www.instagram.c..."
      ]
     },
     "execution_count": 86,
     "metadata": {},
     "output_type": "execute_result"
    }
   ],
   "source": [
    "mess_df = pd.DataFrame(mess['saved_saved_media'])\n",
    "mess_df.head()"
   ]
  },
  {
   "cell_type": "code",
   "execution_count": 87,
   "id": "fbba8627-7af5-4474-aeba-df8ecc9a6cb2",
   "metadata": {},
   "outputs": [
    {
     "data": {
      "text/plain": [
       "dict"
      ]
     },
     "execution_count": 87,
     "metadata": {},
     "output_type": "execute_result"
    }
   ],
   "source": [
    "type(mess_df['string_map_data'].iloc[0])"
   ]
  },
  {
   "cell_type": "code",
   "execution_count": 88,
   "id": "cff26b0b-9fa7-439e-aa07-104c6c867be8",
   "metadata": {},
   "outputs": [
    {
     "data": {
      "text/plain": [
       "1"
      ]
     },
     "execution_count": 88,
     "metadata": {},
     "output_type": "execute_result"
    }
   ],
   "source": [
    "len(mess_df['string_map_data'].iloc[0])"
   ]
  },
  {
   "cell_type": "code",
   "execution_count": 89,
   "id": "3dcfbab7-f19f-44e5-a4ea-bc946fbdde96",
   "metadata": {},
   "outputs": [
    {
     "data": {
      "text/plain": [
       "{'Saved on': {'href': 'https://www.instagram.com/reel/C5LqgerS7Dk/',\n",
       "  'timestamp': 1725811959}}"
      ]
     },
     "execution_count": 89,
     "metadata": {},
     "output_type": "execute_result"
    }
   ],
   "source": [
    "mess_df['string_map_data'].iloc[0]"
   ]
  },
  {
   "cell_type": "code",
   "execution_count": 93,
   "id": "a4f4897d-b5f1-4dfb-b51c-b4fa5843c123",
   "metadata": {},
   "outputs": [],
   "source": [
    "mess_df['Timestamp'] = [x['Saved on']['timestamp'] for x in mess_df['string_map_data']]"
   ]
  },
  {
   "cell_type": "code",
   "execution_count": 96,
   "id": "fe7e96cb-8172-4c89-9140-9da60322db49",
   "metadata": {},
   "outputs": [
    {
     "data": {
      "text/html": [
       "<div>\n",
       "<style scoped>\n",
       "    .dataframe tbody tr th:only-of-type {\n",
       "        vertical-align: middle;\n",
       "    }\n",
       "\n",
       "    .dataframe tbody tr th {\n",
       "        vertical-align: top;\n",
       "    }\n",
       "\n",
       "    .dataframe thead th {\n",
       "        text-align: right;\n",
       "    }\n",
       "</style>\n",
       "<table border=\"1\" class=\"dataframe\">\n",
       "  <thead>\n",
       "    <tr style=\"text-align: right;\">\n",
       "      <th></th>\n",
       "      <th>string_map_data</th>\n",
       "      <th>Timestamp</th>\n",
       "    </tr>\n",
       "    <tr>\n",
       "      <th>title</th>\n",
       "      <th></th>\n",
       "      <th></th>\n",
       "    </tr>\n",
       "  </thead>\n",
       "  <tbody>\n",
       "    <tr>\n",
       "      <th>kkachi_doodle</th>\n",
       "      <td>143</td>\n",
       "      <td>143</td>\n",
       "    </tr>\n",
       "    <tr>\n",
       "      <th>musical.fans.unite</th>\n",
       "      <td>86</td>\n",
       "      <td>86</td>\n",
       "    </tr>\n",
       "    <tr>\n",
       "      <th>lovemeangirlsbway</th>\n",
       "      <td>70</td>\n",
       "      <td>70</td>\n",
       "    </tr>\n",
       "    <tr>\n",
       "      <th>karendcasss</th>\n",
       "      <td>64</td>\n",
       "      <td>64</td>\n",
       "    </tr>\n",
       "    <tr>\n",
       "      <th>sh24_nhs</th>\n",
       "      <td>61</td>\n",
       "      <td>61</td>\n",
       "    </tr>\n",
       "    <tr>\n",
       "      <th>its.broadway.baby</th>\n",
       "      <td>60</td>\n",
       "      <td>60</td>\n",
       "    </tr>\n",
       "    <tr>\n",
       "      <th>squeaky.clean.humor</th>\n",
       "      <td>56</td>\n",
       "      <td>56</td>\n",
       "    </tr>\n",
       "    <tr>\n",
       "      <th>we__are__very__gay</th>\n",
       "      <td>56</td>\n",
       "      <td>56</td>\n",
       "    </tr>\n",
       "    <tr>\n",
       "      <th>alternative.disney</th>\n",
       "      <td>55</td>\n",
       "      <td>55</td>\n",
       "    </tr>\n",
       "    <tr>\n",
       "      <th>chillboyfs</th>\n",
       "      <td>50</td>\n",
       "      <td>50</td>\n",
       "    </tr>\n",
       "  </tbody>\n",
       "</table>\n",
       "</div>"
      ],
      "text/plain": [
       "                     string_map_data  Timestamp\n",
       "title                                          \n",
       "kkachi_doodle                    143        143\n",
       "musical.fans.unite                86         86\n",
       "lovemeangirlsbway                 70         70\n",
       "karendcasss                       64         64\n",
       "sh24_nhs                          61         61\n",
       "its.broadway.baby                 60         60\n",
       "squeaky.clean.humor               56         56\n",
       "we__are__very__gay                56         56\n",
       "alternative.disney                55         55\n",
       "chillboyfs                        50         50"
      ]
     },
     "execution_count": 96,
     "metadata": {},
     "output_type": "execute_result"
    }
   ],
   "source": [
    "mess_df.groupby('title').count().sort_values('Timestamp', ascending = False).head(10)"
   ]
  },
  {
   "cell_type": "code",
   "execution_count": 95,
   "id": "0f68e2da-ecf1-4a44-9462-febb409ca7cc",
   "metadata": {},
   "outputs": [],
   "source": [
    "# The data in this data frame shows infomation about my saved posts on Instagram. The 'title' column is the names of the accounts that I save stuff from, and the 'Timestamp' column shows the time at which I saved my posts. This data in particular disproves my hypothosis, as I was not a fan of Taylor Swift when I interacted with all of these accounts. "
   ]
  }
 ],
 "metadata": {
  "kernelspec": {
   "display_name": "Python 3 (ipykernel)",
   "language": "python",
   "name": "python3"
  },
  "language_info": {
   "codemirror_mode": {
    "name": "ipython",
    "version": 3
   },
   "file_extension": ".py",
   "mimetype": "text/x-python",
   "name": "python",
   "nbconvert_exporter": "python",
   "pygments_lexer": "ipython3",
   "version": "3.12.4"
  }
 },
 "nbformat": 4,
 "nbformat_minor": 5
}
