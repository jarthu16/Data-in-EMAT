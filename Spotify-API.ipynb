{
 "cells": [
  {
   "cell_type": "markdown",
   "id": "f7b6af55-2616-499a-91b9-34636d450535",
   "metadata": {},
   "source": [
    "# Jillian Arthur: 10/1/24: Spotify API Data Report\n",
    "#### Hypothosis: Songs that are more popular have more danceability. In theory this makes sense because songs that have upbeat melodies are generally catchy and circulate well on social media because of this. This could be determined by comparing the most popular songs as well as the most danceable songs and seeing if they are the same.\n",
    "#### I will be using the endpoints for the 1989 album by Taylor Swift, and Ultraviolence by Lana Del Rey. Both of these albums came out in 2014. I will make scatter plots for each album showing the danceability and popularity of the songs on each album, and see if there is a visible correlation between the two from the graphs. \n",
    "#### The data telling us the popularity of an album is reliable as those are straight statistics based on how many streams it gets, however the data that states the danceability could be unreliable as 'danceability' is relatively subjective. Danceability can be defined as songs that are suitable to dance to, however one could argue that any song can be danced to, and some are more so than others depending on the person and their music taste. "
   ]
  },
  {
   "cell_type": "code",
   "execution_count": 26,
   "id": "351de8f4-cb2c-4f1c-bb2b-0a6f921289e1",
   "metadata": {},
   "outputs": [],
   "source": [
    "import urllib\n",
    "import requests\n",
    "import pandas as pd\n",
    "import json\n",
    "import base64\n",
    "import matplotlib.pyplot as plt"
   ]
  },
  {
   "cell_type": "code",
   "execution_count": 27,
   "id": "4c413450-eb11-4f53-9e55-cf92f238ca60",
   "metadata": {},
   "outputs": [],
   "source": [
    "def get_session_token(SessionID, SessionKey):\n",
    "    url = 'https://accounts.spotify.com/api/token'\n",
    "    data = {'grant_type':'client_credentials'}\n",
    "    encoded_key = base64.b64encode(str(SessionID + \":\" + SessionKey).encode(\"ascii\"))\n",
    "    header = {'Authorization': 'Basic {}'.format(encoded_key.decode(\"ascii\"))}\n",
    "    response = requests.post(url, data, headers = header)\n",
    "    print(response.status_code)\n",
    "    return response.json()['access_token']"
   ]
  },
  {
   "cell_type": "code",
   "execution_count": 28,
   "id": "8301e48e-8b0f-421d-8623-da876a3c9d55",
   "metadata": {},
   "outputs": [],
   "source": [
    "keys = pd.read_csv(\"keys.txt\")"
   ]
  },
  {
   "cell_type": "code",
   "execution_count": 29,
   "id": "7b863967-6b36-46ff-aa76-c1d5748ccbae",
   "metadata": {},
   "outputs": [
    {
     "name": "stdout",
     "output_type": "stream",
     "text": [
      "200\n"
     ]
    }
   ],
   "source": [
    "access_token = get_session_token(keys['Client_ID'].iloc[0], keys['Client_Secret'].iloc[0])"
   ]
  },
  {
   "cell_type": "code",
   "execution_count": 30,
   "id": "87f588cf-44e2-4f2a-8fce-adfd56bf9486",
   "metadata": {},
   "outputs": [],
   "source": [
    "t_features_ep = 'https://api.spotify.com/v1/audio-features'\n",
    "tracks_ep = 'https://api.spotify.com/v1/tracks'\n",
    "ab_tracks_ep = 'https://api.spotify.com/v1/albums/{}/tracks'\n",
    "audio_features = 'https://api.spotify.com/v1/albums/{}/tracks'"
   ]
  },
  {
   "cell_type": "code",
   "execution_count": 31,
   "id": "68b51fe1-8838-4475-8637-203adbc448be",
   "metadata": {},
   "outputs": [],
   "source": [
    "def api_call(endpoint_url, api_header):\n",
    "      response = requests.get(endpoint_url, headers = api_header)\n",
    "      print(response.status_code)\n",
    "      return response.json()"
   ]
  },
  {
   "cell_type": "code",
   "execution_count": 32,
   "id": "b09373ba-5116-4afc-91fb-aeb028ca8117",
   "metadata": {},
   "outputs": [],
   "source": [
    "session_header = {'Authorization': 'Bearer {}'.format(access_token)}"
   ]
  },
  {
   "cell_type": "code",
   "execution_count": 33,
   "id": "9305cb03-6c2d-4645-8a5c-74557b73106f",
   "metadata": {},
   "outputs": [],
   "source": [
    "ts_album_id = '2QJmrSgbdM35R67eoGQo4j'\n",
    "ldr_album_id = '1ORxRsK3MrSLvh7VQTF01F'\n",
    "west_coast_id = '5Y6nVaayzitvsD5F7nr3DV'"
   ]
  },
  {
   "cell_type": "code",
   "execution_count": 34,
   "id": "6de683f3-773e-47fa-aab6-2c363f43c307",
   "metadata": {},
   "outputs": [
    {
     "data": {
      "text/plain": [
       "'https://api.spotify.com/v1/albums/1ORxRsK3MrSLvh7VQTF01F/tracks'"
      ]
     },
     "execution_count": 34,
     "metadata": {},
     "output_type": "execute_result"
    }
   ],
   "source": [
    "ab_tracks_ep.format(ldr_album_id)"
   ]
  },
  {
   "cell_type": "code",
   "execution_count": 35,
   "id": "9d4ead8f-8ec4-4c69-8af6-2c076debf2a8",
   "metadata": {},
   "outputs": [
    {
     "data": {
      "text/plain": [
       "'https://api.spotify.com/v1/albums/5Y6nVaayzitvsD5F7nr3DV/tracks'"
      ]
     },
     "execution_count": 35,
     "metadata": {},
     "output_type": "execute_result"
    }
   ],
   "source": [
    "ab_tracks_ep.format(west_coast_id)"
   ]
  },
  {
   "cell_type": "code",
   "execution_count": 36,
   "id": "fc799cd2-987f-4c87-be1b-983a407ce331",
   "metadata": {},
   "outputs": [
    {
     "name": "stdout",
     "output_type": "stream",
     "text": [
      "200\n",
      "200\n"
     ]
    }
   ],
   "source": [
    "ldr_album_response = api_call(ab_tracks_ep.format(ldr_album_id), session_header)\n",
    "ts_album_response = api_call(ab_tracks_ep.format(ts_album_id), session_header)"
   ]
  },
  {
   "cell_type": "code",
   "execution_count": 37,
   "id": "81aa4817-b62c-4231-b897-66e181861d37",
   "metadata": {},
   "outputs": [],
   "source": [
    "ldr_album_df = pd.DataFrame(ldr_album_response['items'])\n",
    "ts_album_df = pd.DataFrame(ts_album_response['items'])\n"
   ]
  },
  {
   "cell_type": "code",
   "execution_count": 38,
   "id": "2a0a5123-afd5-4a1c-8307-35d725d40fc9",
   "metadata": {},
   "outputs": [],
   "source": [
    "ldr_track_ids = ','.join(ldr_album_df['id'].to_list())\n",
    "ts_track_ids = ','.join(ts_album_df['id'].to_list())"
   ]
  },
  {
   "cell_type": "code",
   "execution_count": 39,
   "id": "9baa61a4-f2b3-4a3d-bc51-260ffa51f30b",
   "metadata": {},
   "outputs": [
    {
     "data": {
      "text/plain": [
       "'https://api.spotify.com/v1/audio-features?ids=6ayKgleoMF26lvU1Z7wVm7,1y3r6RXiJZNBV1EI0NggpS,4VSg5K1hnbmIg4PwRdY6wV,1NZs6n6hl8UuMaX0UC0YTz,5Y6nVaayzitvsD5F7nr3DV,11MyiSGZSYSmhhqwGUTtAq,6PnluwP0fjGnpIBsqTdUTq,7Ms58r8G6Y0r1XLtpwoGxN,70Laus6ozJIHDpfTtUSmAZ,6IfPyMb0Sxptpx6jBUATOS,1KuVEZR4xuQVNr1KkanAV4,63hHlajVLQnlFMAqSyePxO,0vfPEfQk0ZCHExTZ007Ryr,0iQPnK3bi7O27c5T2HBTdr'"
      ]
     },
     "execution_count": 39,
     "metadata": {},
     "output_type": "execute_result"
    }
   ],
   "source": [
    "t_features_ep + '?ids={}'.format(ldr_track_ids)"
   ]
  },
  {
   "cell_type": "code",
   "execution_count": 40,
   "id": "28a43c4e-5671-4557-8e87-b70d8556491c",
   "metadata": {},
   "outputs": [
    {
     "name": "stdout",
     "output_type": "stream",
     "text": [
      "200\n",
      "200\n"
     ]
    }
   ],
   "source": [
    "ldr_track_features = api_call(t_features_ep + '?market=US&ids={}'.format(ldr_track_ids), session_header)\n",
    "ts_track_features = api_call(t_features_ep + '?market=US&ids={}'.format(ts_track_ids), session_header)"
   ]
  },
  {
   "cell_type": "code",
   "execution_count": 41,
   "id": "6d6c0109-77cb-4e16-a2b4-ca077750861c",
   "metadata": {},
   "outputs": [
    {
     "name": "stdout",
     "output_type": "stream",
     "text": [
      "200\n",
      "200\n"
     ]
    }
   ],
   "source": [
    "ldr_track_info = api_call(tracks_ep + '?market=US&ids={}'.format(ldr_track_ids), session_header)\n",
    "ts_track_info = api_call(tracks_ep + '?market=US&ids={}'.format(ts_track_ids), session_header)"
   ]
  },
  {
   "cell_type": "code",
   "execution_count": 42,
   "id": "8de81fdf-524d-496c-b388-8cad693bc802",
   "metadata": {},
   "outputs": [],
   "source": [
    "ldr_features_df = pd.DataFrame(ldr_track_features['audio_features'])\n",
    "ts_features_df = pd.DataFrame(ts_track_features['audio_features'])"
   ]
  },
  {
   "cell_type": "code",
   "execution_count": 43,
   "id": "1ba3096e-5a3a-477f-92cb-d72552d303f5",
   "metadata": {},
   "outputs": [
    {
     "data": {
      "text/html": [
       "<div>\n",
       "<style scoped>\n",
       "    .dataframe tbody tr th:only-of-type {\n",
       "        vertical-align: middle;\n",
       "    }\n",
       "\n",
       "    .dataframe tbody tr th {\n",
       "        vertical-align: top;\n",
       "    }\n",
       "\n",
       "    .dataframe thead th {\n",
       "        text-align: right;\n",
       "    }\n",
       "</style>\n",
       "<table border=\"1\" class=\"dataframe\">\n",
       "  <thead>\n",
       "    <tr style=\"text-align: right;\">\n",
       "      <th></th>\n",
       "      <th>name</th>\n",
       "      <th>popularity</th>\n",
       "    </tr>\n",
       "  </thead>\n",
       "  <tbody>\n",
       "    <tr>\n",
       "      <th>0</th>\n",
       "      <td>Cruel World</td>\n",
       "      <td>61</td>\n",
       "    </tr>\n",
       "    <tr>\n",
       "      <th>1</th>\n",
       "      <td>Ultraviolence</td>\n",
       "      <td>75</td>\n",
       "    </tr>\n",
       "    <tr>\n",
       "      <th>2</th>\n",
       "      <td>Shades Of Cool</td>\n",
       "      <td>66</td>\n",
       "    </tr>\n",
       "    <tr>\n",
       "      <th>3</th>\n",
       "      <td>Brooklyn Baby</td>\n",
       "      <td>80</td>\n",
       "    </tr>\n",
       "    <tr>\n",
       "      <th>4</th>\n",
       "      <td>West Coast</td>\n",
       "      <td>81</td>\n",
       "    </tr>\n",
       "    <tr>\n",
       "      <th>5</th>\n",
       "      <td>Sad Girl</td>\n",
       "      <td>76</td>\n",
       "    </tr>\n",
       "    <tr>\n",
       "      <th>6</th>\n",
       "      <td>Pretty When You Cry</td>\n",
       "      <td>74</td>\n",
       "    </tr>\n",
       "    <tr>\n",
       "      <th>7</th>\n",
       "      <td>Money Power Glory</td>\n",
       "      <td>63</td>\n",
       "    </tr>\n",
       "    <tr>\n",
       "      <th>8</th>\n",
       "      <td>Fucked My Way Up To The Top</td>\n",
       "      <td>62</td>\n",
       "    </tr>\n",
       "    <tr>\n",
       "      <th>9</th>\n",
       "      <td>Old Money</td>\n",
       "      <td>66</td>\n",
       "    </tr>\n",
       "    <tr>\n",
       "      <th>10</th>\n",
       "      <td>The Other Woman</td>\n",
       "      <td>72</td>\n",
       "    </tr>\n",
       "    <tr>\n",
       "      <th>11</th>\n",
       "      <td>Black Beauty</td>\n",
       "      <td>68</td>\n",
       "    </tr>\n",
       "    <tr>\n",
       "      <th>12</th>\n",
       "      <td>Guns And Roses</td>\n",
       "      <td>57</td>\n",
       "    </tr>\n",
       "    <tr>\n",
       "      <th>13</th>\n",
       "      <td>Florida Kilos</td>\n",
       "      <td>64</td>\n",
       "    </tr>\n",
       "  </tbody>\n",
       "</table>\n",
       "</div>"
      ],
      "text/plain": [
       "                           name  popularity\n",
       "0                   Cruel World          61\n",
       "1                 Ultraviolence          75\n",
       "2                Shades Of Cool          66\n",
       "3                 Brooklyn Baby          80\n",
       "4                    West Coast          81\n",
       "5                      Sad Girl          76\n",
       "6           Pretty When You Cry          74\n",
       "7             Money Power Glory          63\n",
       "8   Fucked My Way Up To The Top          62\n",
       "9                     Old Money          66\n",
       "10              The Other Woman          72\n",
       "11                 Black Beauty          68\n",
       "12               Guns And Roses          57\n",
       "13                Florida Kilos          64"
      ]
     },
     "execution_count": 43,
     "metadata": {},
     "output_type": "execute_result"
    }
   ],
   "source": [
    "ldr_tracks_df = pd.DataFrame(ldr_track_info['tracks'])\n",
    "ts_tracks_df = pd.DataFrame(ts_track_info['tracks'])\n",
    "ldr_tracks_df[['name', 'popularity']]"
   ]
  },
  {
   "cell_type": "markdown",
   "id": "97c966cd-ac4e-41a1-877c-e714b71686de",
   "metadata": {},
   "source": [
    "#### This data frame shows the name of the track and the popularity of each track on Ultraviolence. For all of the graphs, the higher the number, the higher the popularity. "
   ]
  },
  {
   "cell_type": "code",
   "execution_count": 44,
   "id": "b4b528c3-b18e-440d-88da-fddbf87fe3ce",
   "metadata": {},
   "outputs": [
    {
     "data": {
      "text/html": [
       "<div>\n",
       "<style scoped>\n",
       "    .dataframe tbody tr th:only-of-type {\n",
       "        vertical-align: middle;\n",
       "    }\n",
       "\n",
       "    .dataframe tbody tr th {\n",
       "        vertical-align: top;\n",
       "    }\n",
       "\n",
       "    .dataframe thead th {\n",
       "        text-align: right;\n",
       "    }\n",
       "</style>\n",
       "<table border=\"1\" class=\"dataframe\">\n",
       "  <thead>\n",
       "    <tr style=\"text-align: right;\">\n",
       "      <th></th>\n",
       "      <th>name</th>\n",
       "      <th>danceability</th>\n",
       "    </tr>\n",
       "  </thead>\n",
       "  <tbody>\n",
       "    <tr>\n",
       "      <th>0</th>\n",
       "      <td>Cruel World</td>\n",
       "      <td>0.330</td>\n",
       "    </tr>\n",
       "    <tr>\n",
       "      <th>1</th>\n",
       "      <td>Ultraviolence</td>\n",
       "      <td>0.144</td>\n",
       "    </tr>\n",
       "    <tr>\n",
       "      <th>2</th>\n",
       "      <td>Shades Of Cool</td>\n",
       "      <td>0.262</td>\n",
       "    </tr>\n",
       "    <tr>\n",
       "      <th>3</th>\n",
       "      <td>Brooklyn Baby</td>\n",
       "      <td>0.404</td>\n",
       "    </tr>\n",
       "    <tr>\n",
       "      <th>4</th>\n",
       "      <td>West Coast</td>\n",
       "      <td>0.527</td>\n",
       "    </tr>\n",
       "    <tr>\n",
       "      <th>5</th>\n",
       "      <td>Sad Girl</td>\n",
       "      <td>0.345</td>\n",
       "    </tr>\n",
       "    <tr>\n",
       "      <th>6</th>\n",
       "      <td>Pretty When You Cry</td>\n",
       "      <td>0.509</td>\n",
       "    </tr>\n",
       "    <tr>\n",
       "      <th>7</th>\n",
       "      <td>Money Power Glory</td>\n",
       "      <td>0.349</td>\n",
       "    </tr>\n",
       "    <tr>\n",
       "      <th>8</th>\n",
       "      <td>Fucked My Way Up To The Top</td>\n",
       "      <td>0.520</td>\n",
       "    </tr>\n",
       "    <tr>\n",
       "      <th>9</th>\n",
       "      <td>Old Money</td>\n",
       "      <td>0.312</td>\n",
       "    </tr>\n",
       "    <tr>\n",
       "      <th>10</th>\n",
       "      <td>The Other Woman</td>\n",
       "      <td>0.255</td>\n",
       "    </tr>\n",
       "    <tr>\n",
       "      <th>11</th>\n",
       "      <td>Black Beauty</td>\n",
       "      <td>0.320</td>\n",
       "    </tr>\n",
       "    <tr>\n",
       "      <th>12</th>\n",
       "      <td>Guns And Roses</td>\n",
       "      <td>0.533</td>\n",
       "    </tr>\n",
       "    <tr>\n",
       "      <th>13</th>\n",
       "      <td>Florida Kilos</td>\n",
       "      <td>0.266</td>\n",
       "    </tr>\n",
       "  </tbody>\n",
       "</table>\n",
       "</div>"
      ],
      "text/plain": [
       "                           name  danceability\n",
       "0                   Cruel World         0.330\n",
       "1                 Ultraviolence         0.144\n",
       "2                Shades Of Cool         0.262\n",
       "3                 Brooklyn Baby         0.404\n",
       "4                    West Coast         0.527\n",
       "5                      Sad Girl         0.345\n",
       "6           Pretty When You Cry         0.509\n",
       "7             Money Power Glory         0.349\n",
       "8   Fucked My Way Up To The Top         0.520\n",
       "9                     Old Money         0.312\n",
       "10              The Other Woman         0.255\n",
       "11                 Black Beauty         0.320\n",
       "12               Guns And Roses         0.533\n",
       "13                Florida Kilos         0.266"
      ]
     },
     "execution_count": 44,
     "metadata": {},
     "output_type": "execute_result"
    }
   ],
   "source": [
    "ldr_merged = pd.merge(ldr_features_df, ldr_tracks_df, how = 'inner', on = 'id')\n",
    "ldr_merged[['name', 'danceability']]"
   ]
  },
  {
   "cell_type": "markdown",
   "id": "c625f6ba-3fd9-4073-b99d-4a5f57587d25",
   "metadata": {},
   "source": [
    "#### This data frame shows the name of each track and the danceability of each track on Ultraviolence. Now I will analyze these for 1989."
   ]
  },
  {
   "cell_type": "code",
   "execution_count": 45,
   "id": "16b22d87-833d-4309-ac70-25770edc8bd8",
   "metadata": {},
   "outputs": [],
   "source": [
    "ts_merged = pd.merge(ts_features_df, ts_features_df, how = 'inner', on = 'id')"
   ]
  },
  {
   "cell_type": "code",
   "execution_count": 46,
   "id": "6aa6071d-3174-40f2-9487-ba443de53853",
   "metadata": {},
   "outputs": [
    {
     "data": {
      "text/html": [
       "<div>\n",
       "<style scoped>\n",
       "    .dataframe tbody tr th:only-of-type {\n",
       "        vertical-align: middle;\n",
       "    }\n",
       "\n",
       "    .dataframe tbody tr th {\n",
       "        vertical-align: top;\n",
       "    }\n",
       "\n",
       "    .dataframe thead th {\n",
       "        text-align: right;\n",
       "    }\n",
       "</style>\n",
       "<table border=\"1\" class=\"dataframe\">\n",
       "  <thead>\n",
       "    <tr style=\"text-align: right;\">\n",
       "      <th></th>\n",
       "      <th>name</th>\n",
       "      <th>popularity</th>\n",
       "    </tr>\n",
       "  </thead>\n",
       "  <tbody>\n",
       "    <tr>\n",
       "      <th>0</th>\n",
       "      <td>Welcome To New York</td>\n",
       "      <td>52</td>\n",
       "    </tr>\n",
       "    <tr>\n",
       "      <th>1</th>\n",
       "      <td>Blank Space</td>\n",
       "      <td>69</td>\n",
       "    </tr>\n",
       "    <tr>\n",
       "      <th>2</th>\n",
       "      <td>Style</td>\n",
       "      <td>66</td>\n",
       "    </tr>\n",
       "    <tr>\n",
       "      <th>3</th>\n",
       "      <td>Out Of The Woods</td>\n",
       "      <td>52</td>\n",
       "    </tr>\n",
       "    <tr>\n",
       "      <th>4</th>\n",
       "      <td>All You Had To Do Was Stay</td>\n",
       "      <td>48</td>\n",
       "    </tr>\n",
       "    <tr>\n",
       "      <th>5</th>\n",
       "      <td>Shake It Off</td>\n",
       "      <td>68</td>\n",
       "    </tr>\n",
       "    <tr>\n",
       "      <th>6</th>\n",
       "      <td>I Wish You Would</td>\n",
       "      <td>40</td>\n",
       "    </tr>\n",
       "    <tr>\n",
       "      <th>7</th>\n",
       "      <td>Bad Blood</td>\n",
       "      <td>60</td>\n",
       "    </tr>\n",
       "    <tr>\n",
       "      <th>8</th>\n",
       "      <td>Wildest Dreams</td>\n",
       "      <td>64</td>\n",
       "    </tr>\n",
       "    <tr>\n",
       "      <th>9</th>\n",
       "      <td>How You Get The Girl</td>\n",
       "      <td>41</td>\n",
       "    </tr>\n",
       "    <tr>\n",
       "      <th>10</th>\n",
       "      <td>This Love</td>\n",
       "      <td>39</td>\n",
       "    </tr>\n",
       "    <tr>\n",
       "      <th>11</th>\n",
       "      <td>I Know Places</td>\n",
       "      <td>38</td>\n",
       "    </tr>\n",
       "    <tr>\n",
       "      <th>12</th>\n",
       "      <td>Clean</td>\n",
       "      <td>41</td>\n",
       "    </tr>\n",
       "  </tbody>\n",
       "</table>\n",
       "</div>"
      ],
      "text/plain": [
       "                          name  popularity\n",
       "0          Welcome To New York          52\n",
       "1                  Blank Space          69\n",
       "2                        Style          66\n",
       "3             Out Of The Woods          52\n",
       "4   All You Had To Do Was Stay          48\n",
       "5                 Shake It Off          68\n",
       "6             I Wish You Would          40\n",
       "7                    Bad Blood          60\n",
       "8               Wildest Dreams          64\n",
       "9         How You Get The Girl          41\n",
       "10                   This Love          39\n",
       "11               I Know Places          38\n",
       "12                       Clean          41"
      ]
     },
     "execution_count": 46,
     "metadata": {},
     "output_type": "execute_result"
    }
   ],
   "source": [
    "artist_compare = pd.concat([ldr_merged, ts_merged], axis = 0)\n",
    "artist_compare\n",
    "ts_tracks_df[['name', 'popularity']]"
   ]
  },
  {
   "cell_type": "markdown",
   "id": "d5d5d73c-143c-4287-a088-6197e21013c1",
   "metadata": {},
   "source": [
    "#### This data frame shows the name and popularity of each track on 1989. I will now analyze the danceability for this album."
   ]
  },
  {
   "cell_type": "code",
   "execution_count": 47,
   "id": "be3472cf-376f-49f8-8e3d-0aa4bfc191f0",
   "metadata": {},
   "outputs": [
    {
     "data": {
      "text/html": [
       "<div>\n",
       "<style scoped>\n",
       "    .dataframe tbody tr th:only-of-type {\n",
       "        vertical-align: middle;\n",
       "    }\n",
       "\n",
       "    .dataframe tbody tr th {\n",
       "        vertical-align: top;\n",
       "    }\n",
       "\n",
       "    .dataframe thead th {\n",
       "        text-align: right;\n",
       "    }\n",
       "</style>\n",
       "<table border=\"1\" class=\"dataframe\">\n",
       "  <thead>\n",
       "    <tr style=\"text-align: right;\">\n",
       "      <th></th>\n",
       "      <th>name</th>\n",
       "      <th>danceability</th>\n",
       "    </tr>\n",
       "  </thead>\n",
       "  <tbody>\n",
       "    <tr>\n",
       "      <th>0</th>\n",
       "      <td>Welcome To New York</td>\n",
       "      <td>0.793</td>\n",
       "    </tr>\n",
       "    <tr>\n",
       "      <th>1</th>\n",
       "      <td>Blank Space</td>\n",
       "      <td>0.753</td>\n",
       "    </tr>\n",
       "    <tr>\n",
       "      <th>2</th>\n",
       "      <td>Style</td>\n",
       "      <td>0.598</td>\n",
       "    </tr>\n",
       "    <tr>\n",
       "      <th>3</th>\n",
       "      <td>Out Of The Woods</td>\n",
       "      <td>0.552</td>\n",
       "    </tr>\n",
       "    <tr>\n",
       "      <th>4</th>\n",
       "      <td>All You Had To Do Was Stay</td>\n",
       "      <td>0.602</td>\n",
       "    </tr>\n",
       "    <tr>\n",
       "      <th>5</th>\n",
       "      <td>Shake It Off</td>\n",
       "      <td>0.647</td>\n",
       "    </tr>\n",
       "    <tr>\n",
       "      <th>6</th>\n",
       "      <td>I Wish You Would</td>\n",
       "      <td>0.648</td>\n",
       "    </tr>\n",
       "    <tr>\n",
       "      <th>7</th>\n",
       "      <td>Bad Blood</td>\n",
       "      <td>0.650</td>\n",
       "    </tr>\n",
       "    <tr>\n",
       "      <th>8</th>\n",
       "      <td>Wildest Dreams</td>\n",
       "      <td>0.554</td>\n",
       "    </tr>\n",
       "    <tr>\n",
       "      <th>9</th>\n",
       "      <td>How You Get The Girl</td>\n",
       "      <td>0.764</td>\n",
       "    </tr>\n",
       "    <tr>\n",
       "      <th>10</th>\n",
       "      <td>This Love</td>\n",
       "      <td>0.475</td>\n",
       "    </tr>\n",
       "    <tr>\n",
       "      <th>11</th>\n",
       "      <td>I Know Places</td>\n",
       "      <td>0.596</td>\n",
       "    </tr>\n",
       "    <tr>\n",
       "      <th>12</th>\n",
       "      <td>Clean</td>\n",
       "      <td>0.810</td>\n",
       "    </tr>\n",
       "  </tbody>\n",
       "</table>\n",
       "</div>"
      ],
      "text/plain": [
       "                          name  danceability\n",
       "0          Welcome To New York         0.793\n",
       "1                  Blank Space         0.753\n",
       "2                        Style         0.598\n",
       "3             Out Of The Woods         0.552\n",
       "4   All You Had To Do Was Stay         0.602\n",
       "5                 Shake It Off         0.647\n",
       "6             I Wish You Would         0.648\n",
       "7                    Bad Blood         0.650\n",
       "8               Wildest Dreams         0.554\n",
       "9         How You Get The Girl         0.764\n",
       "10                   This Love         0.475\n",
       "11               I Know Places         0.596\n",
       "12                       Clean         0.810"
      ]
     },
     "execution_count": 47,
     "metadata": {},
     "output_type": "execute_result"
    }
   ],
   "source": [
    "ts_merged = pd.merge(ts_features_df, ts_tracks_df, how = 'inner', on = 'id')\n",
    "ts_merged[['name', 'danceability']]"
   ]
  },
  {
   "cell_type": "markdown",
   "id": "08e41965-f291-4e7d-bdcd-5e5f62ea4150",
   "metadata": {},
   "source": [
    "#### This data frame shows the name and danceability of each track on 1989. "
   ]
  },
  {
   "cell_type": "markdown",
   "id": "31659ef1-5f33-4160-b783-8739e71baa39",
   "metadata": {},
   "source": [
    "#### This data does have limitations. For example, as mentioned previously, danceability is subjective. Danceability could be defined as a song that one can easily dance to, however this definition is a bit incomplete and does not have clear criteria. Also, the popularity of songs changes over time, as more and more people listen to them. This data is as up to date as when it was downloaded, so it may have changed since then. Next steps with this data may be to explore why it is that there is a coorelation between danceability and popularity, and what that says about society's general music taste. Another approach for this task may be exploring other traits of songs such as loudness, or energy, as these have similar themes to danceability. "
   ]
  },
  {
   "cell_type": "markdown",
   "id": "4bbfcbce-ccff-49d4-b995-79512ab4608e",
   "metadata": {},
   "source": [
    "#### I am going to now see if there appears to be a correlation between danceability and popularity for either of these albums. I will make a scatter plot of each one and see if there appears to be a trend. The graph for 1989 is on the left, and Ultraviolence is on the right."
   ]
  },
  {
   "cell_type": "code",
   "execution_count": 53,
   "id": "86315357-4635-4c74-a91d-41ddd3ccf98b",
   "metadata": {},
   "outputs": [
    {
     "data": {
      "image/png": "[encoded data removed]",
      "text/plain": [
       "<Figure size 800x200 with 2 Axes>"
      ]
     },
     "metadata": {},
     "output_type": "display_data"
    }
   ],
   "source": [
    "fig2, ax2 = plt.subplots(1, 2, figsize = (8, 2))\n",
    "ax2[0].scatter(ts_merged['danceability'], ts_merged['popularity'])\n",
    "ax2[1].scatter(ldr_merged['danceability'], ldr_merged['popularity'])\n",
    "plt.show()"
   ]
  },
  {
   "cell_type": "markdown",
   "id": "2d5df9e2-63ed-497f-9109-06be909d2d1f",
   "metadata": {},
   "source": [
    "#### The data in these scatter plots does not highlight a clear trend between danceability and popularity for either of these albums. If they did, the data would generally follow a straight diagonal line going up and to the right. "
   ]
  },
  {
   "cell_type": "code",
   "execution_count": null,
   "id": "3d25bc70-d3f9-4c78-8ca8-7e6d15155eb1",
   "metadata": {},
   "outputs": [],
   "source": []
  }
 ],
 "metadata": {
  "kernelspec": {
   "display_name": "Python 3 (ipykernel)",
   "language": "python",
   "name": "python3"
  },
  "language_info": {
   "codemirror_mode": {
    "name": "ipython",
    "version": 3
   },
   "file_extension": ".py",
   "mimetype": "text/x-python",
   "name": "python",
   "nbconvert_exporter": "python",
   "pygments_lexer": "ipython3",
   "version": "3.12.2"
  }
 },
 "nbformat": 4,
 "nbformat_minor": 5
}
