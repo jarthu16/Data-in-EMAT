{
 "cells": [
  {
   "cell_type": "code",
   "execution_count": null,
   "id": "dc2d7eaf-8880-49fb-9d26-63755aab7679",
   "metadata": {},
   "outputs": [],
   "source": [
    "# Jillian Arthur: 10/1/24: Spotify API Data Report\n",
    "# Hypothosis: Songs that are more popular have more danceability. In theory this makes sense because songs that have upbeat melodies are generally catchy and circulate well on social media because of this. This could be determined by comparing the most popular songs as well as the most danceable songs and seeing if they are the same.\n",
    "# I will be using the endpoints for the 1989 album by Taylor Swift, and Born To Die by Lana Del Rey.\n",
    "# The data telling us the popularity of an album is reliable as those are straight statistics based on how many streams it gets, however the data that states the danceability could be unreliable as 'danceability' is relatively subjective. Danceability can be defined as songs that are suitable to dance to, however one could argue that any song can be danced to, and some are more so than others depending on the person and their music taste. "
   ]
  },
  {
   "cell_type": "code",
   "execution_count": 313,
   "id": "70f1d437-d517-417c-9b7d-77d7f48d237e",
   "metadata": {},
   "outputs": [],
   "source": [
    "import urllib\n",
    "import requests\n",
    "import pandas as pd\n",
    "import json\n",
    "import base64"
   ]
  },
  {
   "cell_type": "code",
   "execution_count": 314,
   "id": "4c413450-eb11-4f53-9e55-cf92f238ca60",
   "metadata": {},
   "outputs": [],
   "source": [
    "def get_session_token(SessionID, SessionKey):\n",
    "    url = 'https://accounts.spotify.com/api/token'\n",
    "    data = {'grant_type':'client_credentials'}\n",
    "    encoded_key = base64.b64encode(str(SessionID + \":\" + SessionKey).encode(\"ascii\"))\n",
    "    header = {'Authorization': 'Basic {}'.format(encoded_key.decode(\"ascii\"))}\n",
    "    response = requests.post(url, data, headers = header)\n",
    "    print(response.status_code)\n",
    "    return response.json()['access_token']"
   ]
  },
  {
   "cell_type": "code",
   "execution_count": 315,
   "id": "8301e48e-8b0f-421d-8623-da876a3c9d55",
   "metadata": {},
   "outputs": [],
   "source": [
    "keys = pd.read_csv(\"keys.txt\")"
   ]
  },
  {
   "cell_type": "code",
   "execution_count": 316,
   "id": "7b863967-6b36-46ff-aa76-c1d5748ccbae",
   "metadata": {},
   "outputs": [
    {
     "name": "stdout",
     "output_type": "stream",
     "text": [
      "200\n"
     ]
    }
   ],
   "source": [
    "access_token = get_session_token(keys['Client_ID'].iloc[0], keys['Client_Secret'].iloc[0])"
   ]
  },
  {
   "cell_type": "code",
   "execution_count": 317,
   "id": "87f588cf-44e2-4f2a-8fce-adfd56bf9486",
   "metadata": {},
   "outputs": [],
   "source": [
    "t_features_ep = 'https://api.spotify.com/v1/audio-features'\n",
    "tracks_ep = 'https://api.spotify.com/v1/tracks'\n",
    "ab_tracks_ep = 'https://api.spotify.com/v1/albums/{}/tracks'"
   ]
  },
  {
   "cell_type": "code",
   "execution_count": 318,
   "id": "68b51fe1-8838-4475-8637-203adbc448be",
   "metadata": {},
   "outputs": [],
   "source": [
    "def api_call(endpoint_url, api_header):\n",
    "    response = requests.get(endpoint_url, headers = api_header)\n",
    "    print(response.status_code)\n",
    "    return response.json()"
   ]
  },
  {
   "cell_type": "code",
   "execution_count": 319,
   "id": "b09373ba-5116-4afc-91fb-aeb028ca8117",
   "metadata": {},
   "outputs": [],
   "source": [
    "session_header = {'Authorization': 'Bearer {}'.format(access_token)}"
   ]
  },
  {
   "cell_type": "code",
   "execution_count": 320,
   "id": "9305cb03-6c2d-4645-8a5c-74557b73106f",
   "metadata": {},
   "outputs": [],
   "source": [
    "ldr_album_id = '3TtsWmvFbChKTWIRfa85lS'\n",
    "ts_album_id = '1o59UpKw81iHR0HPiSkJR0'"
   ]
  },
  {
   "cell_type": "code",
   "execution_count": 321,
   "id": "6de683f3-773e-47fa-aab6-2c363f43c307",
   "metadata": {},
   "outputs": [
    {
     "data": {
      "text/plain": [
       "'https://api.spotify.com/v1/albums/3TtsWmvFbChKTWIRfa85lS/tracks'"
      ]
     },
     "execution_count": 321,
     "metadata": {},
     "output_type": "execute_result"
    }
   ],
   "source": [
    "ab_tracks_ep.format(ldr_album_id)"
   ]
  },
  {
   "cell_type": "code",
   "execution_count": 322,
   "id": "fc799cd2-987f-4c87-be1b-983a407ce331",
   "metadata": {},
   "outputs": [
    {
     "name": "stdout",
     "output_type": "stream",
     "text": [
      "200\n",
      "200\n"
     ]
    }
   ],
   "source": [
    "ldr_album_response = api_call(ab_tracks_ep.format(ldr_album_id), session_header)\n",
    "ts_album_response = api_call(ab_tracks_ep.format(ts_album_id), session_header)"
   ]
  },
  {
   "cell_type": "code",
   "execution_count": 323,
   "id": "81aa4817-b62c-4231-b897-66e181861d37",
   "metadata": {},
   "outputs": [],
   "source": [
    "ldr_album_df = pd.DataFrame(ldr_album_response['items'])\n",
    "ts_album_df = pd.DataFrame(ts_album_response['items'])"
   ]
  },
  {
   "cell_type": "code",
   "execution_count": 324,
   "id": "2a0a5123-afd5-4a1c-8307-35d725d40fc9",
   "metadata": {},
   "outputs": [],
   "source": [
    "ldr_track_ids = ','.join(ldr_album_df['id'].to_list())\n",
    "ts_track_ids = ','.join(ts_album_df['id'].to_list())"
   ]
  },
  {
   "cell_type": "code",
   "execution_count": 325,
   "id": "9baa61a4-f2b3-4a3d-bc51-260ffa51f30b",
   "metadata": {},
   "outputs": [
    {
     "data": {
      "text/plain": [
       "'https://api.spotify.com/v1/audio-features?ids=2MrvoOqj007UVWUtGcCK0F,3vV6IX7lbyQFmOyAuQpdav,6Ce04PNSJO1KkF1WWhSXEi,1GNIYBU1XhMSlAxJXiUBbC,4PLP0yDRmK2x8qbL9b9VfQ,1F96ZPH8sMhxRg0E8Nyzev,7c3GnJoriaSP3Xi1wJ5gMb,04cYZCH74znS6dgdryrWLx,0SG3beN2W0xyWqtyrDJiNB,2uJ3Vh0EKPCHSDd9rb5v49,0l2HaL3nbp9AFJ428p4yaA,2afQfyEKTMRlHDUsnKwDo8,1flpioTD1PIkKyJVvp5Ceq,1MtwMDDHn35PP9eVMK6Dwd,12wkCDbvabkmnJNOLdNQc4'"
      ]
     },
     "execution_count": 325,
     "metadata": {},
     "output_type": "execute_result"
    }
   ],
   "source": [
    "t_features_ep + '?ids={}'.format(ldr_track_ids)"
   ]
  },
  {
   "cell_type": "code",
   "execution_count": 326,
   "id": "28a43c4e-5671-4557-8e87-b70d8556491c",
   "metadata": {},
   "outputs": [
    {
     "name": "stdout",
     "output_type": "stream",
     "text": [
      "200\n",
      "200\n"
     ]
    }
   ],
   "source": [
    "ldr_track_features = api_call(t_features_ep + '?market=US&ids={}'.format(ldr_track_ids), session_header)\n",
    "ts_track_features = api_call(t_features_ep + '?market=US&ids={}'.format(ts_track_ids), session_header)"
   ]
  },
  {
   "cell_type": "code",
   "execution_count": 327,
   "id": "6d6c0109-77cb-4e16-a2b4-ca077750861c",
   "metadata": {},
   "outputs": [
    {
     "name": "stdout",
     "output_type": "stream",
     "text": [
      "200\n",
      "200\n"
     ]
    }
   ],
   "source": [
    "ldr_track_info = api_call(tracks_ep + '?market=US&ids={}'.format(ldr_track_ids), session_header)\n",
    "ts_track_info = api_call(tracks_ep + '?market=US&ids={}'.format(ts_track_ids), session_header)"
   ]
  },
  {
   "cell_type": "code",
   "execution_count": 328,
   "id": "8de81fdf-524d-496c-b388-8cad693bc802",
   "metadata": {},
   "outputs": [],
   "source": [
    "ldr_features_df = pd.DataFrame(ldr_track_features['audio_features'])\n",
    "ts_features_df = pd.DataFrame(ts_track_features['audio_features'])"
   ]
  },
  {
   "cell_type": "code",
   "execution_count": 329,
   "id": "1ba3096e-5a3a-477f-92cb-d72552d303f5",
   "metadata": {},
   "outputs": [
    {
     "data": {
      "text/html": [
       "<div>\n",
       "<style scoped>\n",
       "    .dataframe tbody tr th:only-of-type {\n",
       "        vertical-align: middle;\n",
       "    }\n",
       "\n",
       "    .dataframe tbody tr th {\n",
       "        vertical-align: top;\n",
       "    }\n",
       "\n",
       "    .dataframe thead th {\n",
       "        text-align: right;\n",
       "    }\n",
       "</style>\n",
       "<table border=\"1\" class=\"dataframe\">\n",
       "  <thead>\n",
       "    <tr style=\"text-align: right;\">\n",
       "      <th></th>\n",
       "      <th>name</th>\n",
       "      <th>popularity</th>\n",
       "    </tr>\n",
       "  </thead>\n",
       "  <tbody>\n",
       "    <tr>\n",
       "      <th>0</th>\n",
       "      <td>Born To Die</td>\n",
       "      <td>45</td>\n",
       "    </tr>\n",
       "    <tr>\n",
       "      <th>1</th>\n",
       "      <td>Off To The Races</td>\n",
       "      <td>43</td>\n",
       "    </tr>\n",
       "    <tr>\n",
       "      <th>2</th>\n",
       "      <td>Blue Jeans</td>\n",
       "      <td>43</td>\n",
       "    </tr>\n",
       "    <tr>\n",
       "      <th>3</th>\n",
       "      <td>Video Games</td>\n",
       "      <td>43</td>\n",
       "    </tr>\n",
       "    <tr>\n",
       "      <th>4</th>\n",
       "      <td>Diet Mountain Dew</td>\n",
       "      <td>40</td>\n",
       "    </tr>\n",
       "    <tr>\n",
       "      <th>5</th>\n",
       "      <td>National Anthem</td>\n",
       "      <td>43</td>\n",
       "    </tr>\n",
       "    <tr>\n",
       "      <th>6</th>\n",
       "      <td>Dark Paradise</td>\n",
       "      <td>42</td>\n",
       "    </tr>\n",
       "    <tr>\n",
       "      <th>7</th>\n",
       "      <td>Radio</td>\n",
       "      <td>40</td>\n",
       "    </tr>\n",
       "    <tr>\n",
       "      <th>8</th>\n",
       "      <td>Carmen</td>\n",
       "      <td>40</td>\n",
       "    </tr>\n",
       "    <tr>\n",
       "      <th>9</th>\n",
       "      <td>Million Dollar Man</td>\n",
       "      <td>42</td>\n",
       "    </tr>\n",
       "    <tr>\n",
       "      <th>10</th>\n",
       "      <td>Summertime Sadness</td>\n",
       "      <td>42</td>\n",
       "    </tr>\n",
       "    <tr>\n",
       "      <th>11</th>\n",
       "      <td>This Is What Makes Us Girls</td>\n",
       "      <td>40</td>\n",
       "    </tr>\n",
       "    <tr>\n",
       "      <th>12</th>\n",
       "      <td>Without You</td>\n",
       "      <td>39</td>\n",
       "    </tr>\n",
       "    <tr>\n",
       "      <th>13</th>\n",
       "      <td>Lolita</td>\n",
       "      <td>41</td>\n",
       "    </tr>\n",
       "    <tr>\n",
       "      <th>14</th>\n",
       "      <td>Lucky Ones</td>\n",
       "      <td>39</td>\n",
       "    </tr>\n",
       "  </tbody>\n",
       "</table>\n",
       "</div>"
      ],
      "text/plain": [
       "                           name  popularity\n",
       "0                   Born To Die          45\n",
       "1              Off To The Races          43\n",
       "2                    Blue Jeans          43\n",
       "3                   Video Games          43\n",
       "4             Diet Mountain Dew          40\n",
       "5               National Anthem          43\n",
       "6                 Dark Paradise          42\n",
       "7                         Radio          40\n",
       "8                        Carmen          40\n",
       "9            Million Dollar Man          42\n",
       "10           Summertime Sadness          42\n",
       "11  This Is What Makes Us Girls          40\n",
       "12                  Without You          39\n",
       "13                       Lolita          41\n",
       "14                   Lucky Ones          39"
      ]
     },
     "execution_count": 329,
     "metadata": {},
     "output_type": "execute_result"
    }
   ],
   "source": [
    "ldr_tracks_df = pd.DataFrame(ldr_track_info['tracks'])\n",
    "ts_tracks_df = pd.DataFrame(ts_track_info['tracks'])\n",
    "ldr_tracks_df[['name', 'popularity']]"
   ]
  },
  {
   "cell_type": "code",
   "execution_count": 330,
   "id": "a43fe29d-96b5-47c9-bc2d-8481b42f1832",
   "metadata": {},
   "outputs": [],
   "source": [
    "# This data frame shows the name of the track and the popularity of each track on Born To Die."
   ]
  },
  {
   "cell_type": "code",
   "execution_count": 331,
   "id": "b4b528c3-b18e-440d-88da-fddbf87fe3ce",
   "metadata": {},
   "outputs": [
    {
     "data": {
      "text/html": [
       "<div>\n",
       "<style scoped>\n",
       "    .dataframe tbody tr th:only-of-type {\n",
       "        vertical-align: middle;\n",
       "    }\n",
       "\n",
       "    .dataframe tbody tr th {\n",
       "        vertical-align: top;\n",
       "    }\n",
       "\n",
       "    .dataframe thead th {\n",
       "        text-align: right;\n",
       "    }\n",
       "</style>\n",
       "<table border=\"1\" class=\"dataframe\">\n",
       "  <thead>\n",
       "    <tr style=\"text-align: right;\">\n",
       "      <th></th>\n",
       "      <th>name</th>\n",
       "      <th>danceability</th>\n",
       "    </tr>\n",
       "  </thead>\n",
       "  <tbody>\n",
       "    <tr>\n",
       "      <th>0</th>\n",
       "      <td>Born To Die</td>\n",
       "      <td>0.180</td>\n",
       "    </tr>\n",
       "    <tr>\n",
       "      <th>1</th>\n",
       "      <td>Off To The Races</td>\n",
       "      <td>0.400</td>\n",
       "    </tr>\n",
       "    <tr>\n",
       "      <th>2</th>\n",
       "      <td>Blue Jeans</td>\n",
       "      <td>0.559</td>\n",
       "    </tr>\n",
       "    <tr>\n",
       "      <th>3</th>\n",
       "      <td>Video Games</td>\n",
       "      <td>0.390</td>\n",
       "    </tr>\n",
       "    <tr>\n",
       "      <th>4</th>\n",
       "      <td>Diet Mountain Dew</td>\n",
       "      <td>0.460</td>\n",
       "    </tr>\n",
       "    <tr>\n",
       "      <th>5</th>\n",
       "      <td>National Anthem</td>\n",
       "      <td>0.535</td>\n",
       "    </tr>\n",
       "    <tr>\n",
       "      <th>6</th>\n",
       "      <td>Dark Paradise</td>\n",
       "      <td>0.586</td>\n",
       "    </tr>\n",
       "    <tr>\n",
       "      <th>7</th>\n",
       "      <td>Radio</td>\n",
       "      <td>0.312</td>\n",
       "    </tr>\n",
       "    <tr>\n",
       "      <th>8</th>\n",
       "      <td>Carmen</td>\n",
       "      <td>0.487</td>\n",
       "    </tr>\n",
       "    <tr>\n",
       "      <th>9</th>\n",
       "      <td>Million Dollar Man</td>\n",
       "      <td>0.200</td>\n",
       "    </tr>\n",
       "    <tr>\n",
       "      <th>10</th>\n",
       "      <td>Summertime Sadness</td>\n",
       "      <td>0.565</td>\n",
       "    </tr>\n",
       "    <tr>\n",
       "      <th>11</th>\n",
       "      <td>This Is What Makes Us Girls</td>\n",
       "      <td>0.531</td>\n",
       "    </tr>\n",
       "    <tr>\n",
       "      <th>12</th>\n",
       "      <td>Without You</td>\n",
       "      <td>0.587</td>\n",
       "    </tr>\n",
       "    <tr>\n",
       "      <th>13</th>\n",
       "      <td>Lolita</td>\n",
       "      <td>0.504</td>\n",
       "    </tr>\n",
       "    <tr>\n",
       "      <th>14</th>\n",
       "      <td>Lucky Ones</td>\n",
       "      <td>0.230</td>\n",
       "    </tr>\n",
       "  </tbody>\n",
       "</table>\n",
       "</div>"
      ],
      "text/plain": [
       "                           name  danceability\n",
       "0                   Born To Die         0.180\n",
       "1              Off To The Races         0.400\n",
       "2                    Blue Jeans         0.559\n",
       "3                   Video Games         0.390\n",
       "4             Diet Mountain Dew         0.460\n",
       "5               National Anthem         0.535\n",
       "6                 Dark Paradise         0.586\n",
       "7                         Radio         0.312\n",
       "8                        Carmen         0.487\n",
       "9            Million Dollar Man         0.200\n",
       "10           Summertime Sadness         0.565\n",
       "11  This Is What Makes Us Girls         0.531\n",
       "12                  Without You         0.587\n",
       "13                       Lolita         0.504\n",
       "14                   Lucky Ones         0.230"
      ]
     },
     "execution_count": 331,
     "metadata": {},
     "output_type": "execute_result"
    }
   ],
   "source": [
    "ldr_merged = pd.merge(ldr_features_df, ldr_tracks_df, how = 'inner', on = 'id')\n",
    "ldr_merged[['name', 'danceability']]"
   ]
  },
  {
   "cell_type": "code",
   "execution_count": 332,
   "id": "181c6950-1fd4-42d9-b888-d7ef61a7e431",
   "metadata": {},
   "outputs": [],
   "source": [
    "# This data frame shows the name of each track and the danceability of each track on Born To Die. Now I will analyze this for 1989."
   ]
  },
  {
   "cell_type": "code",
   "execution_count": 333,
   "id": "16b22d87-833d-4309-ac70-25770edc8bd8",
   "metadata": {},
   "outputs": [],
   "source": [
    "ts_merged = pd.merge(ts_features_df, ts_features_df, how = 'inner', on = 'id')"
   ]
  },
  {
   "cell_type": "code",
   "execution_count": 339,
   "id": "6aa6071d-3174-40f2-9487-ba443de53853",
   "metadata": {},
   "outputs": [
    {
     "data": {
      "text/html": [
       "<div>\n",
       "<style scoped>\n",
       "    .dataframe tbody tr th:only-of-type {\n",
       "        vertical-align: middle;\n",
       "    }\n",
       "\n",
       "    .dataframe tbody tr th {\n",
       "        vertical-align: top;\n",
       "    }\n",
       "\n",
       "    .dataframe thead th {\n",
       "        text-align: right;\n",
       "    }\n",
       "</style>\n",
       "<table border=\"1\" class=\"dataframe\">\n",
       "  <thead>\n",
       "    <tr style=\"text-align: right;\">\n",
       "      <th></th>\n",
       "      <th>name</th>\n",
       "      <th>popularity</th>\n",
       "    </tr>\n",
       "  </thead>\n",
       "  <tbody>\n",
       "    <tr>\n",
       "      <th>0</th>\n",
       "      <td>Welcome To New York (Taylor's Version)</td>\n",
       "      <td>60</td>\n",
       "    </tr>\n",
       "    <tr>\n",
       "      <th>1</th>\n",
       "      <td>Blank Space (Taylor's Version)</td>\n",
       "      <td>62</td>\n",
       "    </tr>\n",
       "    <tr>\n",
       "      <th>2</th>\n",
       "      <td>Style (Taylor's Version)</td>\n",
       "      <td>63</td>\n",
       "    </tr>\n",
       "    <tr>\n",
       "      <th>3</th>\n",
       "      <td>Out Of The Woods (Taylor's Version)</td>\n",
       "      <td>61</td>\n",
       "    </tr>\n",
       "    <tr>\n",
       "      <th>4</th>\n",
       "      <td>All You Had To Do Was Stay (Taylor's Version)</td>\n",
       "      <td>60</td>\n",
       "    </tr>\n",
       "    <tr>\n",
       "      <th>5</th>\n",
       "      <td>Shake It Off (Taylor's Version)</td>\n",
       "      <td>60</td>\n",
       "    </tr>\n",
       "    <tr>\n",
       "      <th>6</th>\n",
       "      <td>I Wish You Would (Taylor's Version)</td>\n",
       "      <td>59</td>\n",
       "    </tr>\n",
       "    <tr>\n",
       "      <th>7</th>\n",
       "      <td>Bad Blood (Taylor's Version)</td>\n",
       "      <td>59</td>\n",
       "    </tr>\n",
       "    <tr>\n",
       "      <th>8</th>\n",
       "      <td>Wildest Dreams (Taylor's Version)</td>\n",
       "      <td>60</td>\n",
       "    </tr>\n",
       "    <tr>\n",
       "      <th>9</th>\n",
       "      <td>How You Get The Girl (Taylor's Version)</td>\n",
       "      <td>59</td>\n",
       "    </tr>\n",
       "    <tr>\n",
       "      <th>10</th>\n",
       "      <td>This Love (Taylor’s Version)</td>\n",
       "      <td>58</td>\n",
       "    </tr>\n",
       "    <tr>\n",
       "      <th>11</th>\n",
       "      <td>I Know Places (Taylor's Version)</td>\n",
       "      <td>59</td>\n",
       "    </tr>\n",
       "    <tr>\n",
       "      <th>12</th>\n",
       "      <td>Clean (Taylor's Version)</td>\n",
       "      <td>60</td>\n",
       "    </tr>\n",
       "    <tr>\n",
       "      <th>13</th>\n",
       "      <td>Wonderland (Taylor's Version)</td>\n",
       "      <td>59</td>\n",
       "    </tr>\n",
       "    <tr>\n",
       "      <th>14</th>\n",
       "      <td>You Are In Love (Taylor's Version)</td>\n",
       "      <td>60</td>\n",
       "    </tr>\n",
       "    <tr>\n",
       "      <th>15</th>\n",
       "      <td>New Romantics (Taylor's Version)</td>\n",
       "      <td>61</td>\n",
       "    </tr>\n",
       "    <tr>\n",
       "      <th>16</th>\n",
       "      <td>\"Slut!\" (Taylor's Version) (From The Vault)</td>\n",
       "      <td>63</td>\n",
       "    </tr>\n",
       "    <tr>\n",
       "      <th>17</th>\n",
       "      <td>Say Don't Go (Taylor's Version) (From The Vault)</td>\n",
       "      <td>62</td>\n",
       "    </tr>\n",
       "    <tr>\n",
       "      <th>18</th>\n",
       "      <td>Now That We Don't Talk (Taylor's Version) (Fro...</td>\n",
       "      <td>63</td>\n",
       "    </tr>\n",
       "    <tr>\n",
       "      <th>19</th>\n",
       "      <td>Suburban Legends (Taylor's Version) (From The ...</td>\n",
       "      <td>60</td>\n",
       "    </tr>\n",
       "  </tbody>\n",
       "</table>\n",
       "</div>"
      ],
      "text/plain": [
       "                                                 name  popularity\n",
       "0              Welcome To New York (Taylor's Version)          60\n",
       "1                      Blank Space (Taylor's Version)          62\n",
       "2                            Style (Taylor's Version)          63\n",
       "3                 Out Of The Woods (Taylor's Version)          61\n",
       "4       All You Had To Do Was Stay (Taylor's Version)          60\n",
       "5                     Shake It Off (Taylor's Version)          60\n",
       "6                 I Wish You Would (Taylor's Version)          59\n",
       "7                        Bad Blood (Taylor's Version)          59\n",
       "8                   Wildest Dreams (Taylor's Version)          60\n",
       "9             How You Get The Girl (Taylor's Version)          59\n",
       "10                       This Love (Taylor’s Version)          58\n",
       "11                   I Know Places (Taylor's Version)          59\n",
       "12                           Clean (Taylor's Version)          60\n",
       "13                      Wonderland (Taylor's Version)          59\n",
       "14                 You Are In Love (Taylor's Version)          60\n",
       "15                   New Romantics (Taylor's Version)          61\n",
       "16        \"Slut!\" (Taylor's Version) (From The Vault)          63\n",
       "17   Say Don't Go (Taylor's Version) (From The Vault)          62\n",
       "18  Now That We Don't Talk (Taylor's Version) (Fro...          63\n",
       "19  Suburban Legends (Taylor's Version) (From The ...          60"
      ]
     },
     "execution_count": 339,
     "metadata": {},
     "output_type": "execute_result"
    }
   ],
   "source": [
    "artist_compare = pd.concat([ldr_merged, ts_merged], axis = 0)\n",
    "artist_compare\n",
    "ts_tracks_df[['name', 'popularity']]"
   ]
  },
  {
   "cell_type": "code",
   "execution_count": 340,
   "id": "39da9cf1-db43-4487-aab3-c3a08c23d085",
   "metadata": {},
   "outputs": [],
   "source": [
    "# This data frame shows the name and popularity of each track on 1989."
   ]
  },
  {
   "cell_type": "code",
   "execution_count": 336,
   "id": "be3472cf-376f-49f8-8e3d-0aa4bfc191f0",
   "metadata": {},
   "outputs": [
    {
     "data": {
      "text/html": [
       "<div>\n",
       "<style scoped>\n",
       "    .dataframe tbody tr th:only-of-type {\n",
       "        vertical-align: middle;\n",
       "    }\n",
       "\n",
       "    .dataframe tbody tr th {\n",
       "        vertical-align: top;\n",
       "    }\n",
       "\n",
       "    .dataframe thead th {\n",
       "        text-align: right;\n",
       "    }\n",
       "</style>\n",
       "<table border=\"1\" class=\"dataframe\">\n",
       "  <thead>\n",
       "    <tr style=\"text-align: right;\">\n",
       "      <th></th>\n",
       "      <th>name</th>\n",
       "      <th>danceability</th>\n",
       "    </tr>\n",
       "  </thead>\n",
       "  <tbody>\n",
       "    <tr>\n",
       "      <th>0</th>\n",
       "      <td>Welcome To New York (Taylor's Version)</td>\n",
       "      <td>0.760</td>\n",
       "    </tr>\n",
       "    <tr>\n",
       "      <th>1</th>\n",
       "      <td>Blank Space (Taylor's Version)</td>\n",
       "      <td>0.732</td>\n",
       "    </tr>\n",
       "    <tr>\n",
       "      <th>2</th>\n",
       "      <td>Style (Taylor's Version)</td>\n",
       "      <td>0.514</td>\n",
       "    </tr>\n",
       "    <tr>\n",
       "      <th>3</th>\n",
       "      <td>Out Of The Woods (Taylor's Version)</td>\n",
       "      <td>0.544</td>\n",
       "    </tr>\n",
       "    <tr>\n",
       "      <th>4</th>\n",
       "      <td>All You Had To Do Was Stay (Taylor's Version)</td>\n",
       "      <td>0.589</td>\n",
       "    </tr>\n",
       "    <tr>\n",
       "      <th>5</th>\n",
       "      <td>Shake It Off (Taylor's Version)</td>\n",
       "      <td>0.632</td>\n",
       "    </tr>\n",
       "    <tr>\n",
       "      <th>6</th>\n",
       "      <td>I Wish You Would (Taylor's Version)</td>\n",
       "      <td>0.671</td>\n",
       "    </tr>\n",
       "    <tr>\n",
       "      <th>7</th>\n",
       "      <td>Bad Blood (Taylor's Version)</td>\n",
       "      <td>0.624</td>\n",
       "    </tr>\n",
       "    <tr>\n",
       "      <th>8</th>\n",
       "      <td>Wildest Dreams (Taylor's Version)</td>\n",
       "      <td>0.587</td>\n",
       "    </tr>\n",
       "    <tr>\n",
       "      <th>9</th>\n",
       "      <td>How You Get The Girl (Taylor's Version)</td>\n",
       "      <td>0.761</td>\n",
       "    </tr>\n",
       "    <tr>\n",
       "      <th>10</th>\n",
       "      <td>This Love (Taylor’s Version)</td>\n",
       "      <td>0.470</td>\n",
       "    </tr>\n",
       "    <tr>\n",
       "      <th>11</th>\n",
       "      <td>I Know Places (Taylor's Version)</td>\n",
       "      <td>0.572</td>\n",
       "    </tr>\n",
       "    <tr>\n",
       "      <th>12</th>\n",
       "      <td>Clean (Taylor's Version)</td>\n",
       "      <td>0.782</td>\n",
       "    </tr>\n",
       "    <tr>\n",
       "      <th>13</th>\n",
       "      <td>Wonderland (Taylor's Version)</td>\n",
       "      <td>0.387</td>\n",
       "    </tr>\n",
       "    <tr>\n",
       "      <th>14</th>\n",
       "      <td>You Are In Love (Taylor's Version)</td>\n",
       "      <td>0.554</td>\n",
       "    </tr>\n",
       "    <tr>\n",
       "      <th>15</th>\n",
       "      <td>New Romantics (Taylor's Version)</td>\n",
       "      <td>0.653</td>\n",
       "    </tr>\n",
       "    <tr>\n",
       "      <th>16</th>\n",
       "      <td>\"Slut!\" (Taylor's Version) (From The Vault)</td>\n",
       "      <td>0.621</td>\n",
       "    </tr>\n",
       "    <tr>\n",
       "      <th>17</th>\n",
       "      <td>Say Don't Go (Taylor's Version) (From The Vault)</td>\n",
       "      <td>0.632</td>\n",
       "    </tr>\n",
       "    <tr>\n",
       "      <th>18</th>\n",
       "      <td>Now That We Don't Talk (Taylor's Version) (Fro...</td>\n",
       "      <td>0.800</td>\n",
       "    </tr>\n",
       "    <tr>\n",
       "      <th>19</th>\n",
       "      <td>Suburban Legends (Taylor's Version) (From The ...</td>\n",
       "      <td>0.695</td>\n",
       "    </tr>\n",
       "  </tbody>\n",
       "</table>\n",
       "</div>"
      ],
      "text/plain": [
       "                                                 name  danceability\n",
       "0              Welcome To New York (Taylor's Version)         0.760\n",
       "1                      Blank Space (Taylor's Version)         0.732\n",
       "2                            Style (Taylor's Version)         0.514\n",
       "3                 Out Of The Woods (Taylor's Version)         0.544\n",
       "4       All You Had To Do Was Stay (Taylor's Version)         0.589\n",
       "5                     Shake It Off (Taylor's Version)         0.632\n",
       "6                 I Wish You Would (Taylor's Version)         0.671\n",
       "7                        Bad Blood (Taylor's Version)         0.624\n",
       "8                   Wildest Dreams (Taylor's Version)         0.587\n",
       "9             How You Get The Girl (Taylor's Version)         0.761\n",
       "10                       This Love (Taylor’s Version)         0.470\n",
       "11                   I Know Places (Taylor's Version)         0.572\n",
       "12                           Clean (Taylor's Version)         0.782\n",
       "13                      Wonderland (Taylor's Version)         0.387\n",
       "14                 You Are In Love (Taylor's Version)         0.554\n",
       "15                   New Romantics (Taylor's Version)         0.653\n",
       "16        \"Slut!\" (Taylor's Version) (From The Vault)         0.621\n",
       "17   Say Don't Go (Taylor's Version) (From The Vault)         0.632\n",
       "18  Now That We Don't Talk (Taylor's Version) (Fro...         0.800\n",
       "19  Suburban Legends (Taylor's Version) (From The ...         0.695"
      ]
     },
     "execution_count": 336,
     "metadata": {},
     "output_type": "execute_result"
    }
   ],
   "source": [
    "ts_merged = pd.merge(ts_features_df, ts_tracks_df, how = 'inner', on = 'id')\n",
    "ts_merged[['name', 'danceability']]"
   ]
  },
  {
   "cell_type": "code",
   "execution_count": 337,
   "id": "509d8a13-74bf-4ad6-975b-75f86eacfb16",
   "metadata": {},
   "outputs": [],
   "source": [
    "# This data frame shows the name and danceability of each track on 1989."
   ]
  }
 ],
 "metadata": {
  "kernelspec": {
   "display_name": "Python 3 (ipykernel)",
   "language": "python",
   "name": "python3"
  },
  "language_info": {
   "codemirror_mode": {
    "name": "ipython",
    "version": 3
   },
   "file_extension": ".py",
   "mimetype": "text/x-python",
   "name": "python",
   "nbconvert_exporter": "python",
   "pygments_lexer": "ipython3",
   "version": "3.12.4"
  }
 },
 "nbformat": 4,
 "nbformat_minor": 5
}
