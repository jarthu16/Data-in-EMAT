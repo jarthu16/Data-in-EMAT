{
 "cells": [
  {
   "cell_type": "code",
   "execution_count": null,
   "id": "3833a82f-07d7-43bf-b03e-4ac7e42d4eef",
   "metadata": {},
   "outputs": [],
   "source": [
    "#Systems check\n",
    "##Jillian J. Arthur\n",
    "###8/22/24\n",
    "####From taking this course, I hope to become familiar with different kinds of software and be more comfortable with coding. \n",
    "#####**bold**\n",
    "######<em>italic</em>\n",
    "#######![]https://miro.medium.com/v2/resize:fit:1080/0*A7MUqyCLvZDcHkfM.jpg"
   ]
  }
 ],
 "metadata": {
  "kernelspec": {
   "display_name": "Python 3 (ipykernel)",
   "language": "python",
   "name": "python3"
  },
  "language_info": {
   "codemirror_mode": {
    "name": "ipython",
    "version": 3
   },
   "file_extension": ".py",
   "mimetype": "text/x-python",
   "name": "python",
   "nbconvert_exporter": "python",
   "pygments_lexer": "ipython3",
   "version": "3.12.4"
  }
 },
 "nbformat": 4,
 "nbformat_minor": 5
}
