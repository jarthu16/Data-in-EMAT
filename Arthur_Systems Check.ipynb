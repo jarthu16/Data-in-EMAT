{
 "cells": [
  {
   "cell_type": "code",
   "execution_count": null,
   "id": "6011b4bf-0376-46f3-a8e2-2db11234e66e",
   "metadata": {},
   "outputs": [],
   "source": [
    "#Systems check\n",
    "##Jillian J. Arthur\n",
    "###8/22/24\n",
    "####From taking this course, I hope to become familiar with different kinds of software and be more comfortable with coding. \n",
    "#####**bold**\n",
    "######*italic*\n",
    "#######![](https://miro.medium.com/v2/resize:fit:1080/0*A7MUqyCLvZDcHkfM.jpg)\n",
    "- list\n",
    "* list\n",
    "+ list"
   ]
  }
 ],
 "metadata": {
  "kernelspec": {
   "display_name": "Python 3 (ipykernel)",
   "language": "python",
   "name": "python3"
  },
  "language_info": {
   "codemirror_mode": {
    "name": "ipython",
    "version": 3
   },
   "file_extension": ".py",
   "mimetype": "text/x-python",
   "name": "python",
   "nbconvert_exporter": "python",
   "pygments_lexer": "ipython3",
   "version": "3.12.4"
  }
 },
 "nbformat": 4,
 "nbformat_minor": 5
}
